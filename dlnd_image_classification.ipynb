{
 "cells": [
  {
   "cell_type": "markdown",
   "metadata": {
    "collapsed": true
   },
   "source": [
    "# Image Classification\n",
    "In this project, you'll classify images from the [CIFAR-10 dataset](https://www.cs.toronto.edu/~kriz/cifar.html).  The dataset consists of airplanes, dogs, cats, and other objects. You'll preprocess the images, then train a convolutional neural network on all the samples. The images need to be normalized and the labels need to be one-hot encoded.  You'll get to apply what you learned and build a convolutional, max pooling, dropout, and fully connected layers.  At the end, you'll get to see your neural network's predictions on the sample images.\n",
    "## Get the Data\n",
    "Run the following cell to download the [CIFAR-10 dataset for python](https://www.cs.toronto.edu/~kriz/cifar-10-python.tar.gz)."
   ]
  },
  {
   "cell_type": "code",
   "execution_count": 2,
   "metadata": {},
   "outputs": [
    {
     "name": "stdout",
     "output_type": "stream",
     "text": [
      "All files found!\n"
     ]
    }
   ],
   "source": [
    "\"\"\"\n",
    "DON'T MODIFY ANYTHING IN THIS CELL THAT IS BELOW THIS LINE\n",
    "\"\"\"\n",
    "from urllib.request import urlretrieve\n",
    "from os.path import isfile, isdir\n",
    "from tqdm import tqdm\n",
    "import problem_unittests as tests\n",
    "import tarfile\n",
    "\n",
    "cifar10_dataset_folder_path = 'cifar-10-batches-py'\n",
    "\n",
    "# Use Floyd's cifar-10 dataset if present\n",
    "floyd_cifar10_location = '/input/cifar-10/python.tar.gz'\n",
    "if isfile(floyd_cifar10_location):\n",
    "    tar_gz_path = floyd_cifar10_location\n",
    "else:\n",
    "    tar_gz_path = 'cifar-10-python.tar.gz'\n",
    "\n",
    "class DLProgress(tqdm):\n",
    "    last_block = 0\n",
    "\n",
    "    def hook(self, block_num=1, block_size=1, total_size=None):\n",
    "        self.total = total_size\n",
    "        self.update((block_num - self.last_block) * block_size)\n",
    "        self.last_block = block_num\n",
    "\n",
    "if not isfile(tar_gz_path):\n",
    "    with DLProgress(unit='B', unit_scale=True, miniters=1, desc='CIFAR-10 Dataset') as pbar:\n",
    "        urlretrieve(\n",
    "            'https://www.cs.toronto.edu/~kriz/cifar-10-python.tar.gz',\n",
    "            tar_gz_path,\n",
    "            pbar.hook)\n",
    "\n",
    "if not isdir(cifar10_dataset_folder_path):\n",
    "    with tarfile.open(tar_gz_path) as tar:\n",
    "        tar.extractall()\n",
    "        tar.close()\n",
    "\n",
    "\n",
    "tests.test_folder_path(cifar10_dataset_folder_path)"
   ]
  },
  {
   "cell_type": "markdown",
   "metadata": {},
   "source": [
    "## Explore the Data\n",
    "The dataset is broken into batches to prevent your machine from running out of memory.  The CIFAR-10 dataset consists of 5 batches, named `data_batch_1`, `data_batch_2`, etc.. Each batch contains the labels and images that are one of the following:\n",
    "* airplane\n",
    "* automobile\n",
    "* bird\n",
    "* cat\n",
    "* deer\n",
    "* dog\n",
    "* frog\n",
    "* horse\n",
    "* ship\n",
    "* truck\n",
    "\n",
    "Understanding a dataset is part of making predictions on the data.  Play around with the code cell below by changing the `batch_id` and `sample_id`. The `batch_id` is the id for a batch (1-5). The `sample_id` is the id for a image and label pair in the batch.\n",
    "\n",
    "Ask yourself \"What are all possible labels?\", \"What is the range of values for the image data?\", \"Are the labels in order or random?\".  Answers to questions like these will help you preprocess the data and end up with better predictions."
   ]
  },
  {
   "cell_type": "code",
   "execution_count": 3,
   "metadata": {},
   "outputs": [
    {
     "name": "stdout",
     "output_type": "stream",
     "text": [
      "\n",
      "Stats of batch 1:\n",
      "Samples: 10000\n",
      "Label Counts: {0: 1005, 1: 974, 2: 1032, 3: 1016, 4: 999, 5: 937, 6: 1030, 7: 1001, 8: 1025, 9: 981}\n",
      "First 20 Labels: [6, 9, 9, 4, 1, 1, 2, 7, 8, 3, 4, 7, 7, 2, 9, 9, 9, 3, 2, 6]\n",
      "\n",
      "Example of Image 5:\n",
      "Image - Min Value: 0 Max Value: 252\n",
      "Image - Shape: (32, 32, 3)\n",
      "Label - Label Id: 1 Name: automobile\n"
     ]
    },
    {
     "data": {
      "image/png": "[encoded data removed]",
      "text/plain": [
       "<matplotlib.figure.Figure at 0x11e3c54e0>"
      ]
     },
     "metadata": {
      "image/png": {
       "height": 250,
       "width": 253
      }
     },
     "output_type": "display_data"
    }
   ],
   "source": [
    "%matplotlib inline\n",
    "%config InlineBackend.figure_format = 'retina'\n",
    "\n",
    "import helper\n",
    "import numpy as np\n",
    "\n",
    "# Explore the dataset\n",
    "batch_id = 1\n",
    "sample_id = 5\n",
    "helper.display_stats(cifar10_dataset_folder_path, batch_id, sample_id)"
   ]
  },
  {
   "cell_type": "markdown",
   "metadata": {},
   "source": [
    "## Implement Preprocess Functions\n",
    "### Normalize\n",
    "In the cell below, implement the `normalize` function to take in image data, `x`, and return it as a normalized Numpy array. The values should be in the range of 0 to 1, inclusive.  The return object should be the same shape as `x`."
   ]
  },
  {
   "cell_type": "code",
   "execution_count": 4,
   "metadata": {},
   "outputs": [
    {
     "name": "stdout",
     "output_type": "stream",
     "text": [
      "Tests Passed\n"
     ]
    }
   ],
   "source": [
    "def normalize(x):\n",
    "    \"\"\"\n",
    "    Normalize a list of sample image data in the range of 0 to 1\n",
    "    : x: List of image data.  The image shape is (32, 32, 3)\n",
    "    : return: Numpy array of normalize data\n",
    "    \"\"\"\n",
    "    # TODO: Implement Function\n",
    "    return x / np.max(x)\n",
    "\n",
    "\n",
    "\"\"\"\n",
    "DON'T MODIFY ANYTHING IN THIS CELL THAT IS BELOW THIS LINE\n",
    "\"\"\"\n",
    "tests.test_normalize(normalize)"
   ]
  },
  {
   "cell_type": "markdown",
   "metadata": {},
   "source": [
    "### One-hot encode\n",
    "Just like the previous code cell, you'll be implementing a function for preprocessing.  This time, you'll implement the `one_hot_encode` function. The input, `x`, are a list of labels.  Implement the function to return the list of labels as One-Hot encoded Numpy array.  The possible values for labels are 0 to 9. The one-hot encoding function should return the same encoding for each value between each call to `one_hot_encode`.  Make sure to save the map of encodings outside the function.\n",
    "\n",
    "Hint: Don't reinvent the wheel."
   ]
  },
  {
   "cell_type": "code",
   "execution_count": 5,
   "metadata": {},
   "outputs": [
    {
     "name": "stdout",
     "output_type": "stream",
     "text": [
      "Tests Passed\n"
     ]
    }
   ],
   "source": [
    "def one_hot_encode(x):\n",
    "    \"\"\"\n",
    "    One hot encode a list of sample labels. Return a one-hot encoded vector for each label.\n",
    "    : x: List of sample Labels\n",
    "    : return: Numpy array of one-hot encoded labels\n",
    "    \"\"\"\n",
    "    # TODO: Implement Function\n",
    "    out = np.zeros((len(x),10))\n",
    "    for i in range(len(x)):\n",
    "        out[i,x[i]] = 1\n",
    "    return out\n",
    "\n",
    "\n",
    "\"\"\"\n",
    "DON'T MODIFY ANYTHING IN THIS CELL THAT IS BELOW THIS LINE\n",
    "\"\"\"\n",
    "tests.test_one_hot_encode(one_hot_encode)"
   ]
  },
  {
   "cell_type": "markdown",
   "metadata": {},
   "source": [
    "### Randomize Data\n",
    "As you saw from exploring the data above, the order of the samples are randomized.  It doesn't hurt to randomize it again, but you don't need to for this dataset."
   ]
  },
  {
   "cell_type": "markdown",
   "metadata": {},
   "source": [
    "## Preprocess all the data and save it\n",
    "Running the code cell below will preprocess all the CIFAR-10 data and save it to file. The code below also uses 10% of the training data for validation."
   ]
  },
  {
   "cell_type": "code",
   "execution_count": 6,
   "metadata": {
    "collapsed": true
   },
   "outputs": [],
   "source": [
    "\"\"\"\n",
    "DON'T MODIFY ANYTHING IN THIS CELL\n",
    "\"\"\"\n",
    "# Preprocess Training, Validation, and Testing Data\n",
    "helper.preprocess_and_save_data(cifar10_dataset_folder_path, normalize, one_hot_encode)"
   ]
  },
  {
   "cell_type": "markdown",
   "metadata": {},
   "source": [
    "# Check Point\n",
    "This is your first checkpoint.  If you ever decide to come back to this notebook or have to restart the notebook, you can start from here.  The preprocessed data has been saved to disk."
   ]
  },
  {
   "cell_type": "code",
   "execution_count": 1,
   "metadata": {
    "collapsed": true
   },
   "outputs": [],
   "source": [
    "\"\"\"\n",
    "DON'T MODIFY ANYTHING IN THIS CELL\n",
    "\"\"\"\n",
    "import pickle\n",
    "import problem_unittests as tests\n",
    "import helper\n",
    "\n",
    "# Load the Preprocessed Validation data\n",
    "valid_features, valid_labels = pickle.load(open('preprocess_validation.p', mode='rb'))"
   ]
  },
  {
   "cell_type": "markdown",
   "metadata": {},
   "source": [
    "## Build the network\n",
    "For the neural network, you'll build each layer into a function.  Most of the code you've seen has been outside of functions. To test your code more thoroughly, we require that you put each layer in a function.  This allows us to give you better feedback and test for simple mistakes using our unittests before you submit your project.\n",
    "\n",
    ">**Note:** If you're finding it hard to dedicate enough time for this course each week, we've provided a small shortcut to this part of the project. In the next couple of problems, you'll have the option to use classes from the [TensorFlow Layers](https://www.tensorflow.org/api_docs/python/tf/layers) or [TensorFlow Layers (contrib)](https://www.tensorflow.org/api_guides/python/contrib.layers) packages to build each layer, except the layers you build in the \"Convolutional and Max Pooling Layer\" section.  TF Layers is similar to Keras's and TFLearn's abstraction to layers, so it's easy to pickup.\n",
    "\n",
    ">However, if you would like to get the most out of this course, try to solve all the problems _without_ using anything from the TF Layers packages. You **can** still use classes from other packages that happen to have the same name as ones you find in TF Layers! For example, instead of using the TF Layers version of the `conv2d` class, [tf.layers.conv2d](https://www.tensorflow.org/api_docs/python/tf/layers/conv2d), you would want to use the TF Neural Network version of `conv2d`, [tf.nn.conv2d](https://www.tensorflow.org/api_docs/python/tf/nn/conv2d). \n",
    "\n",
    "Let's begin!\n",
    "\n",
    "### Input\n",
    "The neural network needs to read the image data, one-hot encoded labels, and dropout keep probability. Implement the following functions\n",
    "* Implement `neural_net_image_input`\n",
    " * Return a [TF Placeholder](https://www.tensorflow.org/api_docs/python/tf/placeholder)\n",
    " * Set the shape using `image_shape` with batch size set to `None`.\n",
    " * Name the TensorFlow placeholder \"x\" using the TensorFlow `name` parameter in the [TF Placeholder](https://www.tensorflow.org/api_docs/python/tf/placeholder).\n",
    "* Implement `neural_net_label_input`\n",
    " * Return a [TF Placeholder](https://www.tensorflow.org/api_docs/python/tf/placeholder)\n",
    " * Set the shape using `n_classes` with batch size set to `None`.\n",
    " * Name the TensorFlow placeholder \"y\" using the TensorFlow `name` parameter in the [TF Placeholder](https://www.tensorflow.org/api_docs/python/tf/placeholder).\n",
    "* Implement `neural_net_keep_prob_input`\n",
    " * Return a [TF Placeholder](https://www.tensorflow.org/api_docs/python/tf/placeholder) for dropout keep probability.\n",
    " * Name the TensorFlow placeholder \"keep_prob\" using the TensorFlow `name` parameter in the [TF Placeholder](https://www.tensorflow.org/api_docs/python/tf/placeholder).\n",
    "\n",
    "These names will be used at the end of the project to load your saved model.\n",
    "\n",
    "Note: `None` for shapes in TensorFlow allow for a dynamic size."
   ]
  },
  {
   "cell_type": "code",
   "execution_count": 2,
   "metadata": {},
   "outputs": [
    {
     "name": "stdout",
     "output_type": "stream",
     "text": [
      "Image Input Tests Passed.\n",
      "Label Input Tests Passed.\n",
      "Keep Prob Tests Passed.\n"
     ]
    }
   ],
   "source": [
    "import tensorflow as tf\n",
    "\n",
    "def neural_net_image_input(image_shape):\n",
    "    \"\"\"\n",
    "    Return a Tensor for a batch of image input\n",
    "    : image_shape: Shape of the images\n",
    "    : return: Tensor for image input.\n",
    "    \"\"\"\n",
    "    # TODO: Implement Function\n",
    "    \n",
    "    return tf.placeholder(tf.float32,shape=(None,image_shape[0],image_shape[1],image_shape[2]),name='x')\n",
    "\n",
    "\n",
    "def neural_net_label_input(n_classes):\n",
    "    \"\"\"\n",
    "    Return a Tensor for a batch of label input\n",
    "    : n_classes: Number of classes\n",
    "    : return: Tensor for label input.\n",
    "    \"\"\"\n",
    "    # TODO: Implement Function\n",
    "    return tf.placeholder(tf.float32,shape=(None,n_classes),name='y')\n",
    "\n",
    "\n",
    "def neural_net_keep_prob_input():\n",
    "    \"\"\"\n",
    "    Return a Tensor for keep probability\n",
    "    : return: Tensor for keep probability.\n",
    "    \"\"\"\n",
    "    # TODO: Implement Function\n",
    "    return tf.placeholder(tf.float32,name='keep_prob')\n",
    "\n",
    "\n",
    "\"\"\"\n",
    "DON'T MODIFY ANYTHING IN THIS CELL THAT IS BELOW THIS LINE\n",
    "\"\"\"\n",
    "tf.reset_default_graph()\n",
    "tests.test_nn_image_inputs(neural_net_image_input)\n",
    "tests.test_nn_label_inputs(neural_net_label_input)\n",
    "tests.test_nn_keep_prob_inputs(neural_net_keep_prob_input)"
   ]
  },
  {
   "cell_type": "markdown",
   "metadata": {},
   "source": [
    "### Convolution and Max Pooling Layer\n",
    "Convolution layers have a lot of success with images. For this code cell, you should implement the function `conv2d_maxpool` to apply convolution then max pooling:\n",
    "* Create the weight and bias using `conv_ksize`, `conv_num_outputs` and the shape of `x_tensor`.\n",
    "* Apply a convolution to `x_tensor` using weight and `conv_strides`.\n",
    " * We recommend you use same padding, but you're welcome to use any padding.\n",
    "* Add bias\n",
    "* Add a nonlinear activation to the convolution.\n",
    "* Apply Max Pooling using `pool_ksize` and `pool_strides`.\n",
    " * We recommend you use same padding, but you're welcome to use any padding.\n",
    "\n",
    "**Note:** You **can't** use [TensorFlow Layers](https://www.tensorflow.org/api_docs/python/tf/layers) or [TensorFlow Layers (contrib)](https://www.tensorflow.org/api_guides/python/contrib.layers) for **this** layer, but you can still use TensorFlow's [Neural Network](https://www.tensorflow.org/api_docs/python/tf/nn) package. You may still use the shortcut option for all the **other** layers."
   ]
  },
  {
   "cell_type": "code",
   "execution_count": 9,
   "metadata": {},
   "outputs": [
    {
     "name": "stdout",
     "output_type": "stream",
     "text": [
      "Tests Passed\n"
     ]
    }
   ],
   "source": [
    "def conv2d_maxpool(x_tensor, conv_num_outputs, conv_ksize, conv_strides, pool_ksize, pool_strides):\n",
    "    \"\"\"\n",
    "    Apply convolution then max pooling to x_tensor\n",
    "    :param x_tensor: TensorFlow Tensor\n",
    "    :param conv_num_outputs: Number of outputs for the convolutional layer\n",
    "    :param conv_ksize: kernal size 2-D Tuple for the convolutional layer\n",
    "    :param conv_strides: Stride 2-D Tuple for convolution\n",
    "    :param pool_ksize: kernal size 2-D Tuple for pool\n",
    "    :param pool_strides: Stride 2-D Tuple for pool\n",
    "    : return: A tensor that represents convolution and max pooling of x_tensor\n",
    "    \"\"\"\n",
    "    #print(conv_ksize)\n",
    "    #print(conv_strides)\n",
    "    #print(pool_strides)\n",
    "    #print(pool_ksize)\n",
    "    # TODO: Implement Function\n",
    "    # Weight and bias\n",
    "    weight = tf.Variable(tf.truncated_normal(\n",
    "        (conv_ksize[0], conv_ksize[1],x_tensor.get_shape().as_list()[3] , conv_num_outputs),stddev=0.01))\n",
    "    bias = tf.Variable(tf.zeros(conv_num_outputs))\n",
    "\n",
    "    # Apply Convolution\n",
    "    conv_layer = tf.nn.conv2d(x_tensor, weight, strides=[1,conv_strides[0],conv_strides[1],1], padding='SAME')\n",
    "    # Add bias\n",
    "    #conv_layer = tf.nn.bias_add(conv_layer, bias)\n",
    "    conv_layer = conv_layer + bias\n",
    "    conv_layer = tf.nn.relu(conv_layer)\n",
    "    conv_layer = tf.nn.max_pool(\n",
    "                        conv_layer,\n",
    "                        ksize=[1,pool_ksize[0],pool_ksize[1],1],\n",
    "                        strides=[1,pool_strides[0],pool_strides[1],1],\n",
    "                        padding='SAME')\n",
    "    return conv_layer \n",
    "\n",
    "\n",
    "\"\"\"\n",
    "DON'T MODIFY ANYTHING IN THIS CELL THAT IS BELOW THIS LINE\n",
    "\"\"\"\n",
    "tests.test_con_pool(conv2d_maxpool)"
   ]
  },
  {
   "cell_type": "markdown",
   "metadata": {},
   "source": [
    "### Flatten Layer\n",
    "Implement the `flatten` function to change the dimension of `x_tensor` from a 4-D tensor to a 2-D tensor.  The output should be the shape (*Batch Size*, *Flattened Image Size*). Shortcut option: you can use classes from the [TensorFlow Layers](https://www.tensorflow.org/api_docs/python/tf/layers) or [TensorFlow Layers (contrib)](https://www.tensorflow.org/api_guides/python/contrib.layers) packages for this layer. For more of a challenge, only use other TensorFlow packages."
   ]
  },
  {
   "cell_type": "code",
   "execution_count": 10,
   "metadata": {},
   "outputs": [
    {
     "name": "stdout",
     "output_type": "stream",
     "text": [
      "Tests Passed\n"
     ]
    }
   ],
   "source": [
    "def flatten(x_tensor):\n",
    "    \"\"\"\n",
    "    Flatten x_tensor to (Batch Size, Flattened Image Size)\n",
    "    : x_tensor: A tensor of size (Batch Size, ...), where ... are the image dimensions.\n",
    "    : return: A tensor of size (Batch Size, Flattened Image Size).\n",
    "    \"\"\"\n",
    "    # TODO: Implement Function\n",
    "    return tf.contrib.layers.flatten(x_tensor)\n",
    "\n",
    "\n",
    "\"\"\"\n",
    "DON'T MODIFY ANYTHING IN THIS CELL THAT IS BELOW THIS LINE\n",
    "\"\"\"\n",
    "tests.test_flatten(flatten)"
   ]
  },
  {
   "cell_type": "markdown",
   "metadata": {},
   "source": [
    "### Fully-Connected Layer\n",
    "Implement the `fully_conn` function to apply a fully connected layer to `x_tensor` with the shape (*Batch Size*, *num_outputs*). Shortcut option: you can use classes from the [TensorFlow Layers](https://www.tensorflow.org/api_docs/python/tf/layers) or [TensorFlow Layers (contrib)](https://www.tensorflow.org/api_guides/python/contrib.layers) packages for this layer. For more of a challenge, only use other TensorFlow packages."
   ]
  },
  {
   "cell_type": "code",
   "execution_count": 31,
   "metadata": {},
   "outputs": [
    {
     "name": "stdout",
     "output_type": "stream",
     "text": [
      "Tests Passed\n"
     ]
    }
   ],
   "source": [
    "def fully_conn(x_tensor, num_outputs):\n",
    "    \"\"\"\n",
    "    Apply a fully connected layer to x_tensor using weight and bias\n",
    "    : x_tensor: A 2-D tensor where the first dimension is batch size.\n",
    "    : num_outputs: The number of output that the new tensor should be.\n",
    "    : return: A 2-D tensor where the second dimension is num_outputs.\n",
    "    \"\"\"\n",
    "    # TODO: Implement Function\n",
    "    return tf.contrib.layers.fully_connected(\n",
    "                                    x_tensor,\n",
    "                                    num_outputs,\n",
    "                                    activation_fn=tf.nn.relu)\n",
    "\n",
    "\n",
    "\"\"\"\n",
    "DON'T MODIFY ANYTHING IN THIS CELL THAT IS BELOW THIS LINE\n",
    "\"\"\"\n",
    "tests.test_fully_conn(fully_conn)"
   ]
  },
  {
   "cell_type": "markdown",
   "metadata": {},
   "source": [
    "### Output Layer\n",
    "Implement the `output` function to apply a fully connected layer to `x_tensor` with the shape (*Batch Size*, *num_outputs*). Shortcut option: you can use classes from the [TensorFlow Layers](https://www.tensorflow.org/api_docs/python/tf/layers) or [TensorFlow Layers (contrib)](https://www.tensorflow.org/api_guides/python/contrib.layers) packages for this layer. For more of a challenge, only use other TensorFlow packages.\n",
    "\n",
    "**Note:** Activation, softmax, or cross entropy should **not** be applied to this."
   ]
  },
  {
   "cell_type": "code",
   "execution_count": 32,
   "metadata": {},
   "outputs": [
    {
     "name": "stdout",
     "output_type": "stream",
     "text": [
      "Tests Passed\n"
     ]
    }
   ],
   "source": [
    "def output(x_tensor, num_outputs):\n",
    "    \"\"\"\n",
    "    Apply a output layer to x_tensor using weight and bias\n",
    "    : x_tensor: A 2-D tensor where the first dimension is batch size.\n",
    "    : num_outputs: The number of output that the new tensor should be.\n",
    "    : return: A 2-D tensor where the second dimension is num_outputs.\n",
    "    \"\"\"\n",
    "    # TODO: Implement Function\n",
    "    weights = tf.Variable(tf.truncated_normal((x_tensor.get_shape().as_list()[1], num_outputs), stddev=.1))\n",
    "    bias = tf.Variable(tf.zeros(num_outputs))\n",
    "    \n",
    "    #return tf.nn.bias_add(tf.matmul(x_tensor, weights),bias)\n",
    "    return tf.matmul(x_tensor, weights)+bias\n",
    "\n",
    "\n",
    "\"\"\"\n",
    "DON'T MODIFY ANYTHING IN THIS CELL THAT IS BELOW THIS LINE\n",
    "\"\"\"\n",
    "tests.test_output(output)"
   ]
  },
  {
   "cell_type": "markdown",
   "metadata": {},
   "source": [
    "### Create Convolutional Model\n",
    "Implement the function `conv_net` to create a convolutional neural network model. The function takes in a batch of images, `x`, and outputs logits.  Use the layers you created above to create this model:\n",
    "\n",
    "* Apply 1, 2, or 3 Convolution and Max Pool layers\n",
    "* Apply a Flatten Layer\n",
    "* Apply 1, 2, or 3 Fully Connected Layers\n",
    "* Apply an Output Layer\n",
    "* Return the output\n",
    "* Apply [TensorFlow's Dropout](https://www.tensorflow.org/api_docs/python/tf/nn/dropout) to one or more layers in the model using `keep_prob`. "
   ]
  },
  {
   "cell_type": "code",
   "execution_count": 33,
   "metadata": {},
   "outputs": [
    {
     "name": "stdout",
     "output_type": "stream",
     "text": [
      "Neural Network Built!\n"
     ]
    }
   ],
   "source": [
    "def conv_net(x, keep_prob):\n",
    "    \"\"\"\n",
    "    Create a convolutional neural network model\n",
    "    : x: Placeholder tensor that holds image data.\n",
    "    : keep_prob: Placeholder tensor that hold dropout keep probability.\n",
    "    : return: Tensor that represents logits\n",
    "    \"\"\"\n",
    "    # TODO: Apply 1, 2, or 3 Convolution and Max Pool layers\n",
    "    #    Play around with different number of outputs, kernel size and stride\n",
    "    # Function Definition from Above:\n",
    "    #    conv2d_maxpool(x_tensor, conv_num_outputs, conv_ksize, conv_strides, pool_ksize, pool_strides)\n",
    "    x_shape = x.get_shape().as_list()\n",
    "    \n",
    "    stride = 2\n",
    "    padding = 1\n",
    "    \n",
    "    conv_ksize = (3,3)\n",
    "    conv_strides = (stride,stride)\n",
    "    \n",
    "    conv_num_outputs = 10\n",
    "    \n",
    "    pool_ksize = (2,2)\n",
    "    pool_strides = (2,2)\n",
    "    \n",
    "    conv_layer1 = conv2d_maxpool(x, 64, conv_ksize, conv_strides, pool_ksize, pool_strides)\n",
    "    #conv_layer1 = tf.nn.dropout(conv_layer1,keep_prob)\n",
    "    conv_layer2 = conv2d_maxpool(conv_layer1, 32, conv_ksize, (1,1), pool_ksize, pool_strides)\n",
    "    \n",
    "    # TODO: Apply a Flatten Layer\n",
    "    # Function Definition from Above:\n",
    "    #   flatten(x_tensor)\n",
    "    flat_layer1 = flatten(conv_layer2)\n",
    "    #flat_layer1 = tf.nn.dropout(flat_layer1,keep_prob)\n",
    "\n",
    "    # TODO: Apply 1, 2, or 3 Fully Connected Layers\n",
    "    #    Play around with different number of outputs\n",
    "    # Function Definition from Above:\n",
    "    #   fully_conn(x_tensor, num_outputs)\n",
    "    fully_conn1 = fully_conn(flat_layer1,512)\n",
    "    fully_conn1 = tf.nn.dropout(fully_conn1,keep_prob)\n",
    "    fully_conn2 = fully_conn(fully_conn1,256)\n",
    "    fully_conn2 = tf.nn.dropout(fully_conn2,keep_prob)\n",
    "    fully_conn3 = fully_conn(fully_conn2,128)\n",
    "    fully_conn3 = tf.nn.dropout(fully_conn3,keep_prob)\n",
    "\n",
    "    \n",
    "    return output(fully_conn3,10)\n",
    "\n",
    "\n",
    "\"\"\"\n",
    "DON'T MODIFY ANYTHING IN THIS CELL THAT IS BELOW THIS LINE\n",
    "\"\"\"\n",
    "\n",
    "##############################\n",
    "## Build the Neural Network ##\n",
    "##############################\n",
    "\n",
    "# Remove previous weights, bias, inputs, etc..\n",
    "tf.reset_default_graph()\n",
    "\n",
    "# Inputs\n",
    "x = neural_net_image_input((32, 32, 3))\n",
    "y = neural_net_label_input(10)\n",
    "\n",
    "\n",
    "keep_prob = neural_net_keep_prob_input()\n",
    "\n",
    "# Model\n",
    "logits = conv_net(x, keep_prob)\n",
    "\n",
    "# Name logits Tensor, so that is can be loaded from disk after training\n",
    "logits = tf.identity(logits, name='logits')\n",
    "\n",
    "# Loss and Optimizer\n",
    "cost = tf.reduce_mean(tf.nn.softmax_cross_entropy_with_logits(logits=logits, labels=y))\n",
    "optimizer = tf.train.AdamOptimizer().minimize(cost)\n",
    "\n",
    "# Accuracy\n",
    "correct_pred = tf.equal(tf.argmax(logits, 1), tf.argmax(y, 1))\n",
    "accuracy = tf.reduce_mean(tf.cast(correct_pred, tf.float32), name='accuracy')\n",
    "\n",
    "tests.test_conv_net(conv_net)"
   ]
  },
  {
   "cell_type": "markdown",
   "metadata": {},
   "source": [
    "## Train the Neural Network\n",
    "### Single Optimization\n",
    "Implement the function `train_neural_network` to do a single optimization.  The optimization should use `optimizer` to optimize in `session` with a `feed_dict` of the following:\n",
    "* `x` for image input\n",
    "* `y` for labels\n",
    "* `keep_prob` for keep probability for dropout\n",
    "\n",
    "This function will be called for each batch, so `tf.global_variables_initializer()` has already been called.\n",
    "\n",
    "Note: Nothing needs to be returned. This function is only optimizing the neural network."
   ]
  },
  {
   "cell_type": "code",
   "execution_count": 34,
   "metadata": {},
   "outputs": [
    {
     "name": "stdout",
     "output_type": "stream",
     "text": [
      "Tests Passed\n"
     ]
    }
   ],
   "source": [
    "def train_neural_network(session, optimizer, keep_probability, feature_batch, label_batch):\n",
    "    \"\"\"\n",
    "    Optimize the session on a batch of images and labels\n",
    "    : session: Current TensorFlow session\n",
    "    : optimizer: TensorFlow optimizer function\n",
    "    : keep_probability: keep probability\n",
    "    : feature_batch: Batch of Numpy image data\n",
    "    : label_batch: Batch of Numpy label data\n",
    "    \"\"\"\n",
    "    # TODO: Implement Function\n",
    "    session.run(optimizer, feed_dict={\n",
    "                x: feature_batch,\n",
    "                y: label_batch,\n",
    "                keep_prob: keep_probability})\n",
    "\n",
    "\"\"\"\n",
    "DON'T MODIFY ANYTHING IN THIS CELL THAT IS BELOW THIS LINE\n",
    "\"\"\"\n",
    "tests.test_train_nn(train_neural_network)"
   ]
  },
  {
   "cell_type": "markdown",
   "metadata": {},
   "source": [
    "### Show Stats\n",
    "Implement the function `print_stats` to print loss and validation accuracy.  Use the global variables `valid_features` and `valid_labels` to calculate validation accuracy.  Use a keep probability of `1.0` to calculate the loss and validation accuracy."
   ]
  },
  {
   "cell_type": "code",
   "execution_count": 35,
   "metadata": {
    "collapsed": true
   },
   "outputs": [],
   "source": [
    "def print_stats(session, feature_batch, label_batch, cost, accuracy):\n",
    "    \"\"\"\n",
    "    Print information about loss and validation accuracy\n",
    "    : session: Current TensorFlow session\n",
    "    : feature_batch: Batch of Numpy image data\n",
    "    : label_batch: Batch of Numpy label data\n",
    "    : cost: TensorFlow cost function\n",
    "    : accuracy: TensorFlow accuracy function\n",
    "    \"\"\"\n",
    "    # TODO: Implement Function\n",
    "    loss = sess.run(cost, feed_dict={\n",
    "                x: feature_batch,\n",
    "                y: label_batch,\n",
    "                keep_prob: 1.})\n",
    "    valid_acc = sess.run(accuracy, feed_dict={\n",
    "                x: valid_features,\n",
    "                y: valid_labels,\n",
    "                keep_prob: 1.})\n",
    "\n",
    "    print('Loss: {:>10.4f} Validation Accuracy: {:.6f}'.format(\n",
    "                loss,\n",
    "                valid_acc))\n",
    "    \n",
    "    "
   ]
  },
  {
   "cell_type": "markdown",
   "metadata": {},
   "source": [
    "### Hyperparameters\n",
    "Tune the following parameters:\n",
    "* Set `epochs` to the number of iterations until the network stops learning or start overfitting\n",
    "* Set `batch_size` to the highest number that your machine has memory for.  Most people set them to common sizes of memory:\n",
    " * 64\n",
    " * 128\n",
    " * 256\n",
    " * ...\n",
    "* Set `keep_probability` to the probability of keeping a node using dropout"
   ]
  },
  {
   "cell_type": "code",
   "execution_count": 36,
   "metadata": {
    "collapsed": true
   },
   "outputs": [],
   "source": [
    "# TODO: Tune Parameters\n",
    "epochs = 50\n",
    "batch_size = 256\n",
    "keep_probability = .75"
   ]
  },
  {
   "cell_type": "markdown",
   "metadata": {},
   "source": [
    "### Train on a Single CIFAR-10 Batch\n",
    "Instead of training the neural network on all the CIFAR-10 batches of data, let's use a single batch. This should save time while you iterate on the model to get a better accuracy.  Once the final validation accuracy is 50% or greater, run the model on all the data in the next section."
   ]
  },
  {
   "cell_type": "code",
   "execution_count": 37,
   "metadata": {},
   "outputs": [
    {
     "name": "stdout",
     "output_type": "stream",
     "text": [
      "Checking the Training on a Single Batch...\n",
      "Epoch  1, CIFAR-10 Batch 1:  Loss:     2.2823 Validation Accuracy: 0.250200\n",
      "Epoch  2, CIFAR-10 Batch 1:  Loss:     2.2168 Validation Accuracy: 0.274200\n",
      "Epoch  3, CIFAR-10 Batch 1:  Loss:     2.1957 Validation Accuracy: 0.308600\n",
      "Epoch  4, CIFAR-10 Batch 1:  Loss:     2.0416 Validation Accuracy: 0.361600\n",
      "Epoch  5, CIFAR-10 Batch 1:  Loss:     1.9941 Validation Accuracy: 0.344200\n",
      "Epoch  6, CIFAR-10 Batch 1:  Loss:     1.7851 Validation Accuracy: 0.381000\n",
      "Epoch  7, CIFAR-10 Batch 1:  Loss:     1.6573 Validation Accuracy: 0.427000\n",
      "Epoch  8, CIFAR-10 Batch 1:  Loss:     1.5973 Validation Accuracy: 0.431400\n",
      "Epoch  9, CIFAR-10 Batch 1:  Loss:     1.4844 Validation Accuracy: 0.449800\n",
      "Epoch 10, CIFAR-10 Batch 1:  Loss:     1.3858 Validation Accuracy: 0.450400\n",
      "Epoch 11, CIFAR-10 Batch 1:  Loss:     1.3771 Validation Accuracy: 0.453600\n",
      "Epoch 12, CIFAR-10 Batch 1:  Loss:     1.2992 Validation Accuracy: 0.473600\n",
      "Epoch 13, CIFAR-10 Batch 1:  Loss:     1.1819 Validation Accuracy: 0.484000\n",
      "Epoch 14, CIFAR-10 Batch 1:  Loss:     1.0892 Validation Accuracy: 0.492800\n",
      "Epoch 15, CIFAR-10 Batch 1:  Loss:     1.0405 Validation Accuracy: 0.501800\n",
      "Epoch 16, CIFAR-10 Batch 1:  Loss:     1.0059 Validation Accuracy: 0.496800\n",
      "Epoch 17, CIFAR-10 Batch 1:  Loss:     0.9242 Validation Accuracy: 0.515600\n",
      "Epoch 18, CIFAR-10 Batch 1:  Loss:     0.8561 Validation Accuracy: 0.518600\n",
      "Epoch 19, CIFAR-10 Batch 1:  Loss:     0.7701 Validation Accuracy: 0.516800\n",
      "Epoch 20, CIFAR-10 Batch 1:  Loss:     0.7098 Validation Accuracy: 0.514600\n",
      "Epoch 21, CIFAR-10 Batch 1:  Loss:     0.6760 Validation Accuracy: 0.527600\n",
      "Epoch 22, CIFAR-10 Batch 1:  Loss:     0.6416 Validation Accuracy: 0.507200\n",
      "Epoch 23, CIFAR-10 Batch 1:  Loss:     0.5832 Validation Accuracy: 0.528400\n",
      "Epoch 24, CIFAR-10 Batch 1:  Loss:     0.5562 Validation Accuracy: 0.524800\n",
      "Epoch 25, CIFAR-10 Batch 1:  Loss:     0.4961 Validation Accuracy: 0.540000\n",
      "Epoch 26, CIFAR-10 Batch 1:  Loss:     0.5109 Validation Accuracy: 0.535400\n",
      "Epoch 27, CIFAR-10 Batch 1:  Loss:     0.4867 Validation Accuracy: 0.525600\n",
      "Epoch 28, CIFAR-10 Batch 1:  Loss:     0.4493 Validation Accuracy: 0.535800\n",
      "Epoch 29, CIFAR-10 Batch 1:  Loss:     0.3768 Validation Accuracy: 0.553000\n",
      "Epoch 30, CIFAR-10 Batch 1:  Loss:     0.3400 Validation Accuracy: 0.564600\n",
      "Epoch 31, CIFAR-10 Batch 1:  Loss:     0.2992 Validation Accuracy: 0.570400\n",
      "Epoch 32, CIFAR-10 Batch 1:  Loss:     0.2868 Validation Accuracy: 0.576200\n",
      "Epoch 33, CIFAR-10 Batch 1:  Loss:     0.2791 Validation Accuracy: 0.571800\n",
      "Epoch 34, CIFAR-10 Batch 1:  Loss:     0.2319 Validation Accuracy: 0.573200\n",
      "Epoch 35, CIFAR-10 Batch 1:  Loss:     0.2104 Validation Accuracy: 0.566400\n",
      "Epoch 36, CIFAR-10 Batch 1:  Loss:     0.1925 Validation Accuracy: 0.572600\n",
      "Epoch 37, CIFAR-10 Batch 1:  Loss:     0.1733 Validation Accuracy: 0.576400\n",
      "Epoch 38, CIFAR-10 Batch 1:  Loss:     0.1504 Validation Accuracy: 0.555800\n",
      "Epoch 39, CIFAR-10 Batch 1:  Loss:     0.1665 Validation Accuracy: 0.537600\n",
      "Epoch 40, CIFAR-10 Batch 1:  Loss:     0.1478 Validation Accuracy: 0.551200\n",
      "Epoch 41, CIFAR-10 Batch 1:  Loss:     0.1110 Validation Accuracy: 0.554600\n",
      "Epoch 42, CIFAR-10 Batch 1:  Loss:     0.0747 Validation Accuracy: 0.565800\n",
      "Epoch 43, CIFAR-10 Batch 1:  Loss:     0.0807 Validation Accuracy: 0.551600\n",
      "Epoch 44, CIFAR-10 Batch 1:  Loss:     0.0762 Validation Accuracy: 0.557200\n",
      "Epoch 45, CIFAR-10 Batch 1:  Loss:     0.0759 Validation Accuracy: 0.560600\n",
      "Epoch 46, CIFAR-10 Batch 1:  Loss:     0.0618 Validation Accuracy: 0.570400\n",
      "Epoch 47, CIFAR-10 Batch 1:  Loss:     0.0493 Validation Accuracy: 0.576000\n",
      "Epoch 48, CIFAR-10 Batch 1:  Loss:     0.0532 Validation Accuracy: 0.573200\n",
      "Epoch 49, CIFAR-10 Batch 1:  Loss:     0.0615 Validation Accuracy: 0.553200\n",
      "Epoch 50, CIFAR-10 Batch 1:  Loss:     0.0427 Validation Accuracy: 0.561200\n"
     ]
    }
   ],
   "source": [
    "\"\"\"\n",
    "DON'T MODIFY ANYTHING IN THIS CELL\n",
    "\"\"\"\n",
    "print('Checking the Training on a Single Batch...')\n",
    "with tf.Session() as sess:\n",
    "    # Initializing the variables\n",
    "    sess.run(tf.global_variables_initializer())\n",
    "    \n",
    "    # Training cycle\n",
    "    for epoch in range(epochs):\n",
    "        batch_i = 1\n",
    "        for batch_features, batch_labels in helper.load_preprocess_training_batch(batch_i, batch_size):\n",
    "            train_neural_network(sess, optimizer, keep_probability, batch_features, batch_labels)\n",
    "        print('Epoch {:>2}, CIFAR-10 Batch {}:  '.format(epoch + 1, batch_i), end='')\n",
    "        print_stats(sess, batch_features, batch_labels, cost, accuracy)"
   ]
  },
  {
   "cell_type": "markdown",
   "metadata": {},
   "source": [
    "### Fully Train the Model\n",
    "Now that you got a good accuracy with a single CIFAR-10 batch, try it with all five batches."
   ]
  },
  {
   "cell_type": "code",
   "execution_count": 38,
   "metadata": {},
   "outputs": [
    {
     "name": "stdout",
     "output_type": "stream",
     "text": [
      "Training...\n",
      "Epoch  1, CIFAR-10 Batch 1:  Loss:     2.2097 Validation Accuracy: 0.234800\n",
      "Epoch  1, CIFAR-10 Batch 2:  Loss:     2.0848 Validation Accuracy: 0.254600\n",
      "Epoch  1, CIFAR-10 Batch 3:  Loss:     1.7869 Validation Accuracy: 0.312400\n",
      "Epoch  1, CIFAR-10 Batch 4:  Loss:     1.7797 Validation Accuracy: 0.358200\n",
      "Epoch  1, CIFAR-10 Batch 5:  Loss:     1.7827 Validation Accuracy: 0.374000\n",
      "Epoch  2, CIFAR-10 Batch 1:  Loss:     1.9299 Validation Accuracy: 0.401400\n",
      "Epoch  2, CIFAR-10 Batch 2:  Loss:     1.6630 Validation Accuracy: 0.393800\n",
      "Epoch  2, CIFAR-10 Batch 3:  Loss:     1.3356 Validation Accuracy: 0.421000\n",
      "Epoch  2, CIFAR-10 Batch 4:  Loss:     1.5743 Validation Accuracy: 0.447400\n",
      "Epoch  2, CIFAR-10 Batch 5:  Loss:     1.6051 Validation Accuracy: 0.441000\n",
      "Epoch  3, CIFAR-10 Batch 1:  Loss:     1.6573 Validation Accuracy: 0.452600\n",
      "Epoch  3, CIFAR-10 Batch 2:  Loss:     1.4718 Validation Accuracy: 0.471800\n",
      "Epoch  3, CIFAR-10 Batch 3:  Loss:     1.1450 Validation Accuracy: 0.452000\n",
      "Epoch  3, CIFAR-10 Batch 4:  Loss:     1.4121 Validation Accuracy: 0.476200\n",
      "Epoch  3, CIFAR-10 Batch 5:  Loss:     1.4053 Validation Accuracy: 0.476200\n",
      "Epoch  4, CIFAR-10 Batch 1:  Loss:     1.4891 Validation Accuracy: 0.489000\n",
      "Epoch  4, CIFAR-10 Batch 2:  Loss:     1.2630 Validation Accuracy: 0.495800\n",
      "Epoch  4, CIFAR-10 Batch 3:  Loss:     1.0441 Validation Accuracy: 0.490200\n",
      "Epoch  4, CIFAR-10 Batch 4:  Loss:     1.2811 Validation Accuracy: 0.510600\n",
      "Epoch  4, CIFAR-10 Batch 5:  Loss:     1.2768 Validation Accuracy: 0.500800\n",
      "Epoch  5, CIFAR-10 Batch 1:  Loss:     1.3475 Validation Accuracy: 0.523800\n",
      "Epoch  5, CIFAR-10 Batch 2:  Loss:     1.1344 Validation Accuracy: 0.519800\n",
      "Epoch  5, CIFAR-10 Batch 3:  Loss:     0.9694 Validation Accuracy: 0.513800\n",
      "Epoch  5, CIFAR-10 Batch 4:  Loss:     1.1469 Validation Accuracy: 0.534600\n",
      "Epoch  5, CIFAR-10 Batch 5:  Loss:     1.1729 Validation Accuracy: 0.521400\n",
      "Epoch  6, CIFAR-10 Batch 1:  Loss:     1.2077 Validation Accuracy: 0.541600\n",
      "Epoch  6, CIFAR-10 Batch 2:  Loss:     1.0385 Validation Accuracy: 0.534200\n",
      "Epoch  6, CIFAR-10 Batch 3:  Loss:     0.8722 Validation Accuracy: 0.530800\n",
      "Epoch  6, CIFAR-10 Batch 4:  Loss:     1.0724 Validation Accuracy: 0.551400\n",
      "Epoch  6, CIFAR-10 Batch 5:  Loss:     1.0222 Validation Accuracy: 0.538600\n",
      "Epoch  7, CIFAR-10 Batch 1:  Loss:     1.1514 Validation Accuracy: 0.551400\n",
      "Epoch  7, CIFAR-10 Batch 2:  Loss:     0.9028 Validation Accuracy: 0.550200\n",
      "Epoch  7, CIFAR-10 Batch 3:  Loss:     0.8256 Validation Accuracy: 0.564000\n",
      "Epoch  7, CIFAR-10 Batch 4:  Loss:     0.9505 Validation Accuracy: 0.569200\n",
      "Epoch  7, CIFAR-10 Batch 5:  Loss:     0.8794 Validation Accuracy: 0.570600\n",
      "Epoch  8, CIFAR-10 Batch 1:  Loss:     1.0598 Validation Accuracy: 0.573200\n",
      "Epoch  8, CIFAR-10 Batch 2:  Loss:     0.8310 Validation Accuracy: 0.575800\n",
      "Epoch  8, CIFAR-10 Batch 3:  Loss:     0.7279 Validation Accuracy: 0.577200\n",
      "Epoch  8, CIFAR-10 Batch 4:  Loss:     0.8265 Validation Accuracy: 0.582800\n",
      "Epoch  8, CIFAR-10 Batch 5:  Loss:     0.8066 Validation Accuracy: 0.580800\n",
      "Epoch  9, CIFAR-10 Batch 1:  Loss:     0.9526 Validation Accuracy: 0.587400\n",
      "Epoch  9, CIFAR-10 Batch 2:  Loss:     0.7221 Validation Accuracy: 0.590400\n",
      "Epoch  9, CIFAR-10 Batch 3:  Loss:     0.6597 Validation Accuracy: 0.594200\n",
      "Epoch  9, CIFAR-10 Batch 4:  Loss:     0.7327 Validation Accuracy: 0.591200\n",
      "Epoch  9, CIFAR-10 Batch 5:  Loss:     0.7272 Validation Accuracy: 0.588800\n",
      "Epoch 10, CIFAR-10 Batch 1:  Loss:     0.8863 Validation Accuracy: 0.591200\n",
      "Epoch 10, CIFAR-10 Batch 2:  Loss:     0.6503 Validation Accuracy: 0.608000\n",
      "Epoch 10, CIFAR-10 Batch 3:  Loss:     0.6289 Validation Accuracy: 0.606800\n",
      "Epoch 10, CIFAR-10 Batch 4:  Loss:     0.6221 Validation Accuracy: 0.611200\n",
      "Epoch 10, CIFAR-10 Batch 5:  Loss:     0.6420 Validation Accuracy: 0.600600\n",
      "Epoch 11, CIFAR-10 Batch 1:  Loss:     0.7712 Validation Accuracy: 0.602400\n",
      "Epoch 11, CIFAR-10 Batch 2:  Loss:     0.5568 Validation Accuracy: 0.615000\n",
      "Epoch 11, CIFAR-10 Batch 3:  Loss:     0.5753 Validation Accuracy: 0.615200\n",
      "Epoch 11, CIFAR-10 Batch 4:  Loss:     0.5771 Validation Accuracy: 0.619800\n",
      "Epoch 11, CIFAR-10 Batch 5:  Loss:     0.5472 Validation Accuracy: 0.617800\n",
      "Epoch 12, CIFAR-10 Batch 1:  Loss:     0.7265 Validation Accuracy: 0.602400\n",
      "Epoch 12, CIFAR-10 Batch 2:  Loss:     0.5196 Validation Accuracy: 0.618200\n",
      "Epoch 12, CIFAR-10 Batch 3:  Loss:     0.4884 Validation Accuracy: 0.630000\n",
      "Epoch 12, CIFAR-10 Batch 4:  Loss:     0.5044 Validation Accuracy: 0.628600\n",
      "Epoch 12, CIFAR-10 Batch 5:  Loss:     0.4844 Validation Accuracy: 0.627800\n",
      "Epoch 13, CIFAR-10 Batch 1:  Loss:     0.6525 Validation Accuracy: 0.620200\n",
      "Epoch 13, CIFAR-10 Batch 2:  Loss:     0.4640 Validation Accuracy: 0.630200\n",
      "Epoch 13, CIFAR-10 Batch 3:  Loss:     0.4558 Validation Accuracy: 0.632000\n",
      "Epoch 13, CIFAR-10 Batch 4:  Loss:     0.4913 Validation Accuracy: 0.628600\n",
      "Epoch 13, CIFAR-10 Batch 5:  Loss:     0.4512 Validation Accuracy: 0.634600\n",
      "Epoch 14, CIFAR-10 Batch 1:  Loss:     0.6231 Validation Accuracy: 0.607400\n",
      "Epoch 14, CIFAR-10 Batch 2:  Loss:     0.4398 Validation Accuracy: 0.640000\n",
      "Epoch 14, CIFAR-10 Batch 3:  Loss:     0.4191 Validation Accuracy: 0.637600\n",
      "Epoch 14, CIFAR-10 Batch 4:  Loss:     0.4742 Validation Accuracy: 0.633000\n",
      "Epoch 14, CIFAR-10 Batch 5:  Loss:     0.4216 Validation Accuracy: 0.639200\n",
      "Epoch 15, CIFAR-10 Batch 1:  Loss:     0.6015 Validation Accuracy: 0.626800\n",
      "Epoch 15, CIFAR-10 Batch 2:  Loss:     0.3861 Validation Accuracy: 0.640600\n",
      "Epoch 15, CIFAR-10 Batch 3:  Loss:     0.3713 Validation Accuracy: 0.642600\n",
      "Epoch 15, CIFAR-10 Batch 4:  Loss:     0.3947 Validation Accuracy: 0.646800\n",
      "Epoch 15, CIFAR-10 Batch 5:  Loss:     0.3553 Validation Accuracy: 0.639600\n",
      "Epoch 16, CIFAR-10 Batch 1:  Loss:     0.5374 Validation Accuracy: 0.636400\n",
      "Epoch 16, CIFAR-10 Batch 2:  Loss:     0.3520 Validation Accuracy: 0.634400\n",
      "Epoch 16, CIFAR-10 Batch 3:  Loss:     0.3354 Validation Accuracy: 0.646200\n",
      "Epoch 16, CIFAR-10 Batch 4:  Loss:     0.3677 Validation Accuracy: 0.647200\n",
      "Epoch 16, CIFAR-10 Batch 5:  Loss:     0.3046 Validation Accuracy: 0.648600\n",
      "Epoch 17, CIFAR-10 Batch 1:  Loss:     0.4984 Validation Accuracy: 0.632200\n",
      "Epoch 17, CIFAR-10 Batch 2:  Loss:     0.3669 Validation Accuracy: 0.649600\n",
      "Epoch 17, CIFAR-10 Batch 3:  Loss:     0.3246 Validation Accuracy: 0.648000\n",
      "Epoch 17, CIFAR-10 Batch 4:  Loss:     0.3210 Validation Accuracy: 0.642200\n",
      "Epoch 17, CIFAR-10 Batch 5:  Loss:     0.2656 Validation Accuracy: 0.658600\n",
      "Epoch 18, CIFAR-10 Batch 1:  Loss:     0.4055 Validation Accuracy: 0.648800\n",
      "Epoch 18, CIFAR-10 Batch 2:  Loss:     0.3137 Validation Accuracy: 0.638800\n",
      "Epoch 18, CIFAR-10 Batch 3:  Loss:     0.2936 Validation Accuracy: 0.654600\n",
      "Epoch 18, CIFAR-10 Batch 4:  Loss:     0.3289 Validation Accuracy: 0.639200\n",
      "Epoch 18, CIFAR-10 Batch 5:  Loss:     0.2514 Validation Accuracy: 0.651400\n",
      "Epoch 19, CIFAR-10 Batch 1:  Loss:     0.3656 Validation Accuracy: 0.656200\n",
      "Epoch 19, CIFAR-10 Batch 2:  Loss:     0.3222 Validation Accuracy: 0.649000\n",
      "Epoch 19, CIFAR-10 Batch 3:  Loss:     0.2625 Validation Accuracy: 0.644800\n",
      "Epoch 19, CIFAR-10 Batch 4:  Loss:     0.3081 Validation Accuracy: 0.641800\n",
      "Epoch 19, CIFAR-10 Batch 5:  Loss:     0.2384 Validation Accuracy: 0.655000\n",
      "Epoch 20, CIFAR-10 Batch 1:  Loss:     0.3196 Validation Accuracy: 0.652600\n",
      "Epoch 20, CIFAR-10 Batch 2:  Loss:     0.3237 Validation Accuracy: 0.638400\n",
      "Epoch 20, CIFAR-10 Batch 3:  Loss:     0.2202 Validation Accuracy: 0.649600\n",
      "Epoch 20, CIFAR-10 Batch 4:  Loss:     0.2512 Validation Accuracy: 0.648200\n",
      "Epoch 20, CIFAR-10 Batch 5:  Loss:     0.1774 Validation Accuracy: 0.656400\n",
      "Epoch 21, CIFAR-10 Batch 1:  Loss:     0.2794 Validation Accuracy: 0.657200\n",
      "Epoch 21, CIFAR-10 Batch 2:  Loss:     0.3070 Validation Accuracy: 0.643800\n",
      "Epoch 21, CIFAR-10 Batch 3:  Loss:     0.2428 Validation Accuracy: 0.634800\n",
      "Epoch 21, CIFAR-10 Batch 4:  Loss:     0.2346 Validation Accuracy: 0.653800\n",
      "Epoch 21, CIFAR-10 Batch 5:  Loss:     0.1816 Validation Accuracy: 0.653000\n",
      "Epoch 22, CIFAR-10 Batch 1:  Loss:     0.2767 Validation Accuracy: 0.647000\n",
      "Epoch 22, CIFAR-10 Batch 2:  Loss:     0.2688 Validation Accuracy: 0.653200\n",
      "Epoch 22, CIFAR-10 Batch 3:  Loss:     0.2071 Validation Accuracy: 0.648000\n"
     ]
    },
    {
     "name": "stdout",
     "output_type": "stream",
     "text": [
      "Epoch 22, CIFAR-10 Batch 4:  Loss:     0.2217 Validation Accuracy: 0.652400\n",
      "Epoch 22, CIFAR-10 Batch 5:  Loss:     0.1701 Validation Accuracy: 0.651000\n",
      "Epoch 23, CIFAR-10 Batch 1:  Loss:     0.2639 Validation Accuracy: 0.641400\n",
      "Epoch 23, CIFAR-10 Batch 2:  Loss:     0.2348 Validation Accuracy: 0.662200\n",
      "Epoch 23, CIFAR-10 Batch 3:  Loss:     0.2109 Validation Accuracy: 0.637800\n",
      "Epoch 23, CIFAR-10 Batch 4:  Loss:     0.1983 Validation Accuracy: 0.646200\n",
      "Epoch 23, CIFAR-10 Batch 5:  Loss:     0.1399 Validation Accuracy: 0.660400\n",
      "Epoch 24, CIFAR-10 Batch 1:  Loss:     0.2166 Validation Accuracy: 0.641400\n",
      "Epoch 24, CIFAR-10 Batch 2:  Loss:     0.2148 Validation Accuracy: 0.659000\n",
      "Epoch 24, CIFAR-10 Batch 3:  Loss:     0.1894 Validation Accuracy: 0.642800\n",
      "Epoch 24, CIFAR-10 Batch 4:  Loss:     0.1835 Validation Accuracy: 0.656200\n",
      "Epoch 24, CIFAR-10 Batch 5:  Loss:     0.1439 Validation Accuracy: 0.655200\n",
      "Epoch 25, CIFAR-10 Batch 1:  Loss:     0.2093 Validation Accuracy: 0.646200\n",
      "Epoch 25, CIFAR-10 Batch 2:  Loss:     0.2185 Validation Accuracy: 0.657400\n",
      "Epoch 25, CIFAR-10 Batch 3:  Loss:     0.1986 Validation Accuracy: 0.635400\n",
      "Epoch 25, CIFAR-10 Batch 4:  Loss:     0.1788 Validation Accuracy: 0.665600\n",
      "Epoch 25, CIFAR-10 Batch 5:  Loss:     0.1255 Validation Accuracy: 0.663800\n",
      "Epoch 26, CIFAR-10 Batch 1:  Loss:     0.1944 Validation Accuracy: 0.662600\n",
      "Epoch 26, CIFAR-10 Batch 2:  Loss:     0.2127 Validation Accuracy: 0.655400\n",
      "Epoch 26, CIFAR-10 Batch 3:  Loss:     0.1702 Validation Accuracy: 0.661600\n",
      "Epoch 26, CIFAR-10 Batch 4:  Loss:     0.1591 Validation Accuracy: 0.659600\n",
      "Epoch 26, CIFAR-10 Batch 5:  Loss:     0.1267 Validation Accuracy: 0.652800\n",
      "Epoch 27, CIFAR-10 Batch 1:  Loss:     0.1804 Validation Accuracy: 0.653000\n",
      "Epoch 27, CIFAR-10 Batch 2:  Loss:     0.1901 Validation Accuracy: 0.662200\n",
      "Epoch 27, CIFAR-10 Batch 3:  Loss:     0.1584 Validation Accuracy: 0.661800\n",
      "Epoch 27, CIFAR-10 Batch 4:  Loss:     0.1498 Validation Accuracy: 0.665000\n",
      "Epoch 27, CIFAR-10 Batch 5:  Loss:     0.1286 Validation Accuracy: 0.651200\n",
      "Epoch 28, CIFAR-10 Batch 1:  Loss:     0.1687 Validation Accuracy: 0.654600\n",
      "Epoch 28, CIFAR-10 Batch 2:  Loss:     0.1743 Validation Accuracy: 0.660200\n",
      "Epoch 28, CIFAR-10 Batch 3:  Loss:     0.1405 Validation Accuracy: 0.663000\n",
      "Epoch 28, CIFAR-10 Batch 4:  Loss:     0.1176 Validation Accuracy: 0.660600\n",
      "Epoch 28, CIFAR-10 Batch 5:  Loss:     0.1100 Validation Accuracy: 0.659000\n",
      "Epoch 29, CIFAR-10 Batch 1:  Loss:     0.1552 Validation Accuracy: 0.649400\n",
      "Epoch 29, CIFAR-10 Batch 2:  Loss:     0.1696 Validation Accuracy: 0.657000\n",
      "Epoch 29, CIFAR-10 Batch 3:  Loss:     0.1197 Validation Accuracy: 0.667000\n",
      "Epoch 29, CIFAR-10 Batch 4:  Loss:     0.1018 Validation Accuracy: 0.666800\n",
      "Epoch 29, CIFAR-10 Batch 5:  Loss:     0.1183 Validation Accuracy: 0.658400\n",
      "Epoch 30, CIFAR-10 Batch 1:  Loss:     0.1400 Validation Accuracy: 0.664000\n",
      "Epoch 30, CIFAR-10 Batch 2:  Loss:     0.1454 Validation Accuracy: 0.662200\n",
      "Epoch 30, CIFAR-10 Batch 3:  Loss:     0.1149 Validation Accuracy: 0.664600\n",
      "Epoch 30, CIFAR-10 Batch 4:  Loss:     0.1145 Validation Accuracy: 0.673200\n",
      "Epoch 30, CIFAR-10 Batch 5:  Loss:     0.1003 Validation Accuracy: 0.662200\n",
      "Epoch 31, CIFAR-10 Batch 1:  Loss:     0.1398 Validation Accuracy: 0.655400\n",
      "Epoch 31, CIFAR-10 Batch 2:  Loss:     0.1428 Validation Accuracy: 0.668800\n",
      "Epoch 31, CIFAR-10 Batch 3:  Loss:     0.0940 Validation Accuracy: 0.662200\n",
      "Epoch 31, CIFAR-10 Batch 4:  Loss:     0.1105 Validation Accuracy: 0.651800\n",
      "Epoch 31, CIFAR-10 Batch 5:  Loss:     0.0711 Validation Accuracy: 0.655400\n",
      "Epoch 32, CIFAR-10 Batch 1:  Loss:     0.1141 Validation Accuracy: 0.663600\n",
      "Epoch 32, CIFAR-10 Batch 2:  Loss:     0.1338 Validation Accuracy: 0.667200\n",
      "Epoch 32, CIFAR-10 Batch 3:  Loss:     0.0882 Validation Accuracy: 0.666000\n",
      "Epoch 32, CIFAR-10 Batch 4:  Loss:     0.0751 Validation Accuracy: 0.674200\n",
      "Epoch 32, CIFAR-10 Batch 5:  Loss:     0.0853 Validation Accuracy: 0.664200\n",
      "Epoch 33, CIFAR-10 Batch 1:  Loss:     0.1039 Validation Accuracy: 0.654600\n",
      "Epoch 33, CIFAR-10 Batch 2:  Loss:     0.1129 Validation Accuracy: 0.672000\n",
      "Epoch 33, CIFAR-10 Batch 3:  Loss:     0.0890 Validation Accuracy: 0.662000\n",
      "Epoch 33, CIFAR-10 Batch 4:  Loss:     0.0689 Validation Accuracy: 0.668600\n",
      "Epoch 33, CIFAR-10 Batch 5:  Loss:     0.0796 Validation Accuracy: 0.656600\n",
      "Epoch 34, CIFAR-10 Batch 1:  Loss:     0.0902 Validation Accuracy: 0.670000\n",
      "Epoch 34, CIFAR-10 Batch 2:  Loss:     0.1074 Validation Accuracy: 0.672600\n",
      "Epoch 34, CIFAR-10 Batch 3:  Loss:     0.0872 Validation Accuracy: 0.656600\n",
      "Epoch 34, CIFAR-10 Batch 4:  Loss:     0.0842 Validation Accuracy: 0.665000\n",
      "Epoch 34, CIFAR-10 Batch 5:  Loss:     0.0642 Validation Accuracy: 0.667200\n",
      "Epoch 35, CIFAR-10 Batch 1:  Loss:     0.1075 Validation Accuracy: 0.656600\n",
      "Epoch 35, CIFAR-10 Batch 2:  Loss:     0.1099 Validation Accuracy: 0.667400\n",
      "Epoch 35, CIFAR-10 Batch 3:  Loss:     0.0721 Validation Accuracy: 0.661400\n",
      "Epoch 35, CIFAR-10 Batch 4:  Loss:     0.0724 Validation Accuracy: 0.671800\n",
      "Epoch 35, CIFAR-10 Batch 5:  Loss:     0.0566 Validation Accuracy: 0.669000\n",
      "Epoch 36, CIFAR-10 Batch 1:  Loss:     0.0748 Validation Accuracy: 0.655600\n",
      "Epoch 36, CIFAR-10 Batch 2:  Loss:     0.0943 Validation Accuracy: 0.668200\n",
      "Epoch 36, CIFAR-10 Batch 3:  Loss:     0.0762 Validation Accuracy: 0.671000\n",
      "Epoch 36, CIFAR-10 Batch 4:  Loss:     0.0753 Validation Accuracy: 0.659400\n",
      "Epoch 36, CIFAR-10 Batch 5:  Loss:     0.0529 Validation Accuracy: 0.662400\n",
      "Epoch 37, CIFAR-10 Batch 1:  Loss:     0.1005 Validation Accuracy: 0.666000\n",
      "Epoch 37, CIFAR-10 Batch 2:  Loss:     0.1050 Validation Accuracy: 0.670400\n",
      "Epoch 37, CIFAR-10 Batch 3:  Loss:     0.0740 Validation Accuracy: 0.660200\n",
      "Epoch 37, CIFAR-10 Batch 4:  Loss:     0.0752 Validation Accuracy: 0.666000\n",
      "Epoch 37, CIFAR-10 Batch 5:  Loss:     0.0636 Validation Accuracy: 0.671400\n",
      "Epoch 38, CIFAR-10 Batch 1:  Loss:     0.0983 Validation Accuracy: 0.653600\n",
      "Epoch 38, CIFAR-10 Batch 2:  Loss:     0.0968 Validation Accuracy: 0.673400\n",
      "Epoch 38, CIFAR-10 Batch 3:  Loss:     0.0774 Validation Accuracy: 0.672800\n",
      "Epoch 38, CIFAR-10 Batch 4:  Loss:     0.0764 Validation Accuracy: 0.671400\n",
      "Epoch 38, CIFAR-10 Batch 5:  Loss:     0.0485 Validation Accuracy: 0.668000\n",
      "Epoch 39, CIFAR-10 Batch 1:  Loss:     0.0791 Validation Accuracy: 0.651000\n",
      "Epoch 39, CIFAR-10 Batch 2:  Loss:     0.0959 Validation Accuracy: 0.671000\n",
      "Epoch 39, CIFAR-10 Batch 3:  Loss:     0.0629 Validation Accuracy: 0.673800\n",
      "Epoch 39, CIFAR-10 Batch 4:  Loss:     0.0705 Validation Accuracy: 0.667800\n",
      "Epoch 39, CIFAR-10 Batch 5:  Loss:     0.0561 Validation Accuracy: 0.662400\n",
      "Epoch 40, CIFAR-10 Batch 1:  Loss:     0.0605 Validation Accuracy: 0.668600\n",
      "Epoch 40, CIFAR-10 Batch 2:  Loss:     0.0893 Validation Accuracy: 0.668200\n",
      "Epoch 40, CIFAR-10 Batch 3:  Loss:     0.0585 Validation Accuracy: 0.664200\n",
      "Epoch 40, CIFAR-10 Batch 4:  Loss:     0.0522 Validation Accuracy: 0.667400\n",
      "Epoch 40, CIFAR-10 Batch 5:  Loss:     0.0358 Validation Accuracy: 0.667800\n",
      "Epoch 41, CIFAR-10 Batch 1:  Loss:     0.0564 Validation Accuracy: 0.666600\n",
      "Epoch 41, CIFAR-10 Batch 2:  Loss:     0.0802 Validation Accuracy: 0.670200\n",
      "Epoch 41, CIFAR-10 Batch 3:  Loss:     0.0615 Validation Accuracy: 0.665600\n",
      "Epoch 41, CIFAR-10 Batch 4:  Loss:     0.0587 Validation Accuracy: 0.675600\n",
      "Epoch 41, CIFAR-10 Batch 5:  Loss:     0.0355 Validation Accuracy: 0.672200\n",
      "Epoch 42, CIFAR-10 Batch 1:  Loss:     0.0581 Validation Accuracy: 0.656800\n",
      "Epoch 42, CIFAR-10 Batch 2:  Loss:     0.0755 Validation Accuracy: 0.672800\n",
      "Epoch 42, CIFAR-10 Batch 3:  Loss:     0.0533 Validation Accuracy: 0.678200\n",
      "Epoch 42, CIFAR-10 Batch 4:  Loss:     0.0539 Validation Accuracy: 0.670800\n",
      "Epoch 42, CIFAR-10 Batch 5:  Loss:     0.0387 Validation Accuracy: 0.665000\n",
      "Epoch 43, CIFAR-10 Batch 1:  Loss:     0.0526 Validation Accuracy: 0.651000\n",
      "Epoch 43, CIFAR-10 Batch 2:  Loss:     0.0682 Validation Accuracy: 0.673000\n",
      "Epoch 43, CIFAR-10 Batch 3:  Loss:     0.0604 Validation Accuracy: 0.664000\n",
      "Epoch 43, CIFAR-10 Batch 4:  Loss:     0.0562 Validation Accuracy: 0.674400\n",
      "Epoch 43, CIFAR-10 Batch 5:  Loss:     0.0299 Validation Accuracy: 0.664400\n",
      "Epoch 44, CIFAR-10 Batch 1:  Loss:     0.0612 Validation Accuracy: 0.656400\n"
     ]
    },
    {
     "name": "stdout",
     "output_type": "stream",
     "text": [
      "Epoch 44, CIFAR-10 Batch 2:  Loss:     0.0610 Validation Accuracy: 0.675400\n",
      "Epoch 44, CIFAR-10 Batch 3:  Loss:     0.0445 Validation Accuracy: 0.665200\n",
      "Epoch 44, CIFAR-10 Batch 4:  Loss:     0.0574 Validation Accuracy: 0.656200\n",
      "Epoch 44, CIFAR-10 Batch 5:  Loss:     0.0388 Validation Accuracy: 0.662200\n",
      "Epoch 45, CIFAR-10 Batch 1:  Loss:     0.0652 Validation Accuracy: 0.633600\n",
      "Epoch 45, CIFAR-10 Batch 2:  Loss:     0.0813 Validation Accuracy: 0.668400\n",
      "Epoch 45, CIFAR-10 Batch 3:  Loss:     0.0858 Validation Accuracy: 0.649000\n",
      "Epoch 45, CIFAR-10 Batch 4:  Loss:     0.0657 Validation Accuracy: 0.665000\n",
      "Epoch 45, CIFAR-10 Batch 5:  Loss:     0.0315 Validation Accuracy: 0.666200\n",
      "Epoch 46, CIFAR-10 Batch 1:  Loss:     0.0613 Validation Accuracy: 0.655000\n",
      "Epoch 46, CIFAR-10 Batch 2:  Loss:     0.0895 Validation Accuracy: 0.659000\n",
      "Epoch 46, CIFAR-10 Batch 3:  Loss:     0.0578 Validation Accuracy: 0.658600\n",
      "Epoch 46, CIFAR-10 Batch 4:  Loss:     0.0585 Validation Accuracy: 0.668800\n",
      "Epoch 46, CIFAR-10 Batch 5:  Loss:     0.0299 Validation Accuracy: 0.674600\n",
      "Epoch 47, CIFAR-10 Batch 1:  Loss:     0.0632 Validation Accuracy: 0.654400\n",
      "Epoch 47, CIFAR-10 Batch 2:  Loss:     0.0705 Validation Accuracy: 0.647200\n",
      "Epoch 47, CIFAR-10 Batch 3:  Loss:     0.0501 Validation Accuracy: 0.659000\n",
      "Epoch 47, CIFAR-10 Batch 4:  Loss:     0.0540 Validation Accuracy: 0.667400\n",
      "Epoch 47, CIFAR-10 Batch 5:  Loss:     0.0331 Validation Accuracy: 0.671600\n",
      "Epoch 48, CIFAR-10 Batch 1:  Loss:     0.0451 Validation Accuracy: 0.659600\n",
      "Epoch 48, CIFAR-10 Batch 2:  Loss:     0.0636 Validation Accuracy: 0.648800\n",
      "Epoch 48, CIFAR-10 Batch 3:  Loss:     0.0529 Validation Accuracy: 0.669400\n",
      "Epoch 48, CIFAR-10 Batch 4:  Loss:     0.0541 Validation Accuracy: 0.665200\n",
      "Epoch 48, CIFAR-10 Batch 5:  Loss:     0.0278 Validation Accuracy: 0.663400\n",
      "Epoch 49, CIFAR-10 Batch 1:  Loss:     0.0430 Validation Accuracy: 0.649600\n",
      "Epoch 49, CIFAR-10 Batch 2:  Loss:     0.0650 Validation Accuracy: 0.639600\n",
      "Epoch 49, CIFAR-10 Batch 3:  Loss:     0.0487 Validation Accuracy: 0.662600\n",
      "Epoch 49, CIFAR-10 Batch 4:  Loss:     0.0499 Validation Accuracy: 0.672800\n",
      "Epoch 49, CIFAR-10 Batch 5:  Loss:     0.0277 Validation Accuracy: 0.668200\n",
      "Epoch 50, CIFAR-10 Batch 1:  Loss:     0.0421 Validation Accuracy: 0.663200\n",
      "Epoch 50, CIFAR-10 Batch 2:  Loss:     0.0669 Validation Accuracy: 0.639400\n",
      "Epoch 50, CIFAR-10 Batch 3:  Loss:     0.0326 Validation Accuracy: 0.667400\n",
      "Epoch 50, CIFAR-10 Batch 4:  Loss:     0.0367 Validation Accuracy: 0.675800\n",
      "Epoch 50, CIFAR-10 Batch 5:  Loss:     0.0188 Validation Accuracy: 0.670000\n",
      "model saved\n"
     ]
    }
   ],
   "source": [
    "\"\"\"\n",
    "DON'T MODIFY ANYTHING IN THIS CELL\n",
    "\"\"\"\n",
    "save_model_path = './image_classification'\n",
    "\n",
    "print('Training...')\n",
    "with tf.Session() as sess:\n",
    "    # Initializing the variables\n",
    "    sess.run(tf.global_variables_initializer())\n",
    "    \n",
    "    # Training cycle\n",
    "    for epoch in range(epochs):\n",
    "        # Loop over all batches\n",
    "        n_batches = 5\n",
    "        for batch_i in range(1, n_batches + 1):\n",
    "            for batch_features, batch_labels in helper.load_preprocess_training_batch(batch_i, batch_size):\n",
    "                train_neural_network(sess, optimizer, keep_probability, batch_features, batch_labels)\n",
    "            print('Epoch {:>2}, CIFAR-10 Batch {}:  '.format(epoch + 1, batch_i), end='')\n",
    "            print_stats(sess, batch_features, batch_labels, cost, accuracy)\n",
    "            \n",
    "    # Save Model\n",
    "    saver = tf.train.Saver()\n",
    "    save_path = saver.save(sess, save_model_path)\n",
    "    print(\"model saved\")"
   ]
  },
  {
   "cell_type": "markdown",
   "metadata": {},
   "source": [
    "# Checkpoint\n",
    "The model has been saved to disk.\n",
    "## Test Model\n",
    "Test your model against the test dataset.  This will be your final accuracy. You should have an accuracy greater than 50%. If you don't, keep tweaking the model architecture and parameters."
   ]
  },
  {
   "cell_type": "code",
   "execution_count": 39,
   "metadata": {},
   "outputs": [
    {
     "name": "stdout",
     "output_type": "stream",
     "text": [
      "INFO:tensorflow:Restoring parameters from ./image_classification\n",
      "Testing Accuracy: 0.66279296875\n",
      "\n"
     ]
    },
    {
     "data": {
      "image/png": "[encoded data removed]",
      "text/plain": [
       "<matplotlib.figure.Figure at 0x11773ef98>"
      ]
     },
     "metadata": {
      "image/png": {
       "height": 319,
       "width": 355
      }
     },
     "output_type": "display_data"
    }
   ],
   "source": [
    "\"\"\"\n",
    "DON'T MODIFY ANYTHING IN THIS CELL\n",
    "\"\"\"\n",
    "%matplotlib inline\n",
    "%config InlineBackend.figure_format = 'retina'\n",
    "\n",
    "import tensorflow as tf\n",
    "import pickle\n",
    "import helper\n",
    "import random\n",
    "\n",
    "# Set batch size if not already set\n",
    "try:\n",
    "    if batch_size:\n",
    "        pass\n",
    "except NameError:\n",
    "    batch_size = 64\n",
    "\n",
    "save_model_path = './image_classification'\n",
    "n_samples = 4\n",
    "top_n_predictions = 3\n",
    "\n",
    "def test_model():\n",
    "    \"\"\"\n",
    "    Test the saved model against the test dataset\n",
    "    \"\"\"\n",
    "\n",
    "    test_features, test_labels = pickle.load(open('preprocess_test.p', mode='rb'))\n",
    "    loaded_graph = tf.Graph()\n",
    "\n",
    "    with tf.Session(graph=loaded_graph) as sess:\n",
    "        # Load model\n",
    "        loader = tf.train.import_meta_graph(save_model_path + '.meta')\n",
    "        loader.restore(sess, save_model_path)\n",
    "\n",
    "        # Get Tensors from loaded model\n",
    "        loaded_x = loaded_graph.get_tensor_by_name('x:0')\n",
    "        loaded_y = loaded_graph.get_tensor_by_name('y:0')\n",
    "        loaded_keep_prob = loaded_graph.get_tensor_by_name('keep_prob:0')\n",
    "        loaded_logits = loaded_graph.get_tensor_by_name('logits:0')\n",
    "        loaded_acc = loaded_graph.get_tensor_by_name('accuracy:0')\n",
    "        \n",
    "        # Get accuracy in batches for memory limitations\n",
    "        test_batch_acc_total = 0\n",
    "        test_batch_count = 0\n",
    "        \n",
    "        for test_feature_batch, test_label_batch in helper.batch_features_labels(test_features, test_labels, batch_size):\n",
    "            test_batch_acc_total += sess.run(\n",
    "                loaded_acc,\n",
    "                feed_dict={loaded_x: test_feature_batch, loaded_y: test_label_batch, loaded_keep_prob: 1.0})\n",
    "            test_batch_count += 1\n",
    "\n",
    "        print('Testing Accuracy: {}\\n'.format(test_batch_acc_total/test_batch_count))\n",
    "\n",
    "        # Print Random Samples\n",
    "        random_test_features, random_test_labels = tuple(zip(*random.sample(list(zip(test_features, test_labels)), n_samples)))\n",
    "        random_test_predictions = sess.run(\n",
    "            tf.nn.top_k(tf.nn.softmax(loaded_logits), top_n_predictions),\n",
    "            feed_dict={loaded_x: random_test_features, loaded_y: random_test_labels, loaded_keep_prob: 1.0})\n",
    "        helper.display_image_predictions(random_test_features, random_test_labels, random_test_predictions)\n",
    "\n",
    "\n",
    "test_model()"
   ]
  },
  {
   "cell_type": "markdown",
   "metadata": {},
   "source": [
    "## Why 50-80% Accuracy?\n",
    "You might be wondering why you can't get an accuracy any higher. First things first, 50% isn't bad for a simple CNN.  Pure guessing would get you 10% accuracy. However, you might notice people are getting scores [well above 80%](http://rodrigob.github.io/are_we_there_yet/build/classification_datasets_results.html#43494641522d3130).  That's because we haven't taught you all there is to know about neural networks. We still need to cover a few more techniques.\n",
    "## Submitting This Project\n",
    "When submitting this project, make sure to run all the cells before saving the notebook.  Save the notebook file as \"dlnd_image_classification.ipynb\" and save it as a HTML file under \"File\" -> \"Download as\".  Include the \"helper.py\" and \"problem_unittests.py\" files in your submission."
   ]
  },
  {
   "cell_type": "code",
   "execution_count": null,
   "metadata": {
    "collapsed": true
   },
   "outputs": [],
   "source": []
  }
 ],
 "metadata": {
  "kernelspec": {
   "display_name": "Python 3",
   "language": "python",
   "name": "python3"
  },
  "language_info": {
   "codemirror_mode": {
    "name": "ipython",
    "version": 3
   },
   "file_extension": ".py",
   "mimetype": "text/x-python",
   "name": "python",
   "nbconvert_exporter": "python",
   "pygments_lexer": "ipython3",
   "version": "3.5.4"
  }
 },
 "nbformat": 4,
 "nbformat_minor": 1
}
